{
  "nbformat": 4,
  "nbformat_minor": 0,
  "metadata": {
    "colab": {
      "provenance": [],
      "gpuType": "T4"
    },
    "kernelspec": {
      "name": "python3",
      "display_name": "Python 3"
    },
    "language_info": {
      "name": "python"
    },
    "accelerator": "GPU"
  },
  "cells": [
    {
      "cell_type": "code",
      "execution_count": 1,
      "metadata": {
        "id": "doBTt6lG8x6p"
      },
      "outputs": [],
      "source": [
        "import pandas as pd\n",
        "import numpy as np\n",
        "import matplotlib.pyplot as plt\n",
        "import seaborn as sns\n"
      ]
    },
    {
      "cell_type": "code",
      "source": [
        "from google.colab import files\n",
        "uploaded = files.upload()\n"
      ],
      "metadata": {
        "colab": {
          "base_uri": "https://localhost:8080/",
          "height": 143
        },
        "id": "eWfV-dQ69C1n",
        "outputId": "9afbbcaa-2b8b-4eee-b0db-f8aa651c8f78"
      },
      "execution_count": 2,
      "outputs": [
        {
          "output_type": "display_data",
          "data": {
            "text/plain": [
              "<IPython.core.display.HTML object>"
            ],
            "text/html": [
              "\n",
              "     <input type=\"file\" id=\"files-6a8c6622-e290-4b3a-bebe-3696ff774230\" name=\"files[]\" multiple disabled\n",
              "        style=\"border:none\" />\n",
              "     <output id=\"result-6a8c6622-e290-4b3a-bebe-3696ff774230\">\n",
              "      Upload widget is only available when the cell has been executed in the\n",
              "      current browser session. Please rerun this cell to enable.\n",
              "      </output>\n",
              "      <script>// Copyright 2017 Google LLC\n",
              "//\n",
              "// Licensed under the Apache License, Version 2.0 (the \"License\");\n",
              "// you may not use this file except in compliance with the License.\n",
              "// You may obtain a copy of the License at\n",
              "//\n",
              "//      http://www.apache.org/licenses/LICENSE-2.0\n",
              "//\n",
              "// Unless required by applicable law or agreed to in writing, software\n",
              "// distributed under the License is distributed on an \"AS IS\" BASIS,\n",
              "// WITHOUT WARRANTIES OR CONDITIONS OF ANY KIND, either express or implied.\n",
              "// See the License for the specific language governing permissions and\n",
              "// limitations under the License.\n",
              "\n",
              "/**\n",
              " * @fileoverview Helpers for google.colab Python module.\n",
              " */\n",
              "(function(scope) {\n",
              "function span(text, styleAttributes = {}) {\n",
              "  const element = document.createElement('span');\n",
              "  element.textContent = text;\n",
              "  for (const key of Object.keys(styleAttributes)) {\n",
              "    element.style[key] = styleAttributes[key];\n",
              "  }\n",
              "  return element;\n",
              "}\n",
              "\n",
              "// Max number of bytes which will be uploaded at a time.\n",
              "const MAX_PAYLOAD_SIZE = 100 * 1024;\n",
              "\n",
              "function _uploadFiles(inputId, outputId) {\n",
              "  const steps = uploadFilesStep(inputId, outputId);\n",
              "  const outputElement = document.getElementById(outputId);\n",
              "  // Cache steps on the outputElement to make it available for the next call\n",
              "  // to uploadFilesContinue from Python.\n",
              "  outputElement.steps = steps;\n",
              "\n",
              "  return _uploadFilesContinue(outputId);\n",
              "}\n",
              "\n",
              "// This is roughly an async generator (not supported in the browser yet),\n",
              "// where there are multiple asynchronous steps and the Python side is going\n",
              "// to poll for completion of each step.\n",
              "// This uses a Promise to block the python side on completion of each step,\n",
              "// then passes the result of the previous step as the input to the next step.\n",
              "function _uploadFilesContinue(outputId) {\n",
              "  const outputElement = document.getElementById(outputId);\n",
              "  const steps = outputElement.steps;\n",
              "\n",
              "  const next = steps.next(outputElement.lastPromiseValue);\n",
              "  return Promise.resolve(next.value.promise).then((value) => {\n",
              "    // Cache the last promise value to make it available to the next\n",
              "    // step of the generator.\n",
              "    outputElement.lastPromiseValue = value;\n",
              "    return next.value.response;\n",
              "  });\n",
              "}\n",
              "\n",
              "/**\n",
              " * Generator function which is called between each async step of the upload\n",
              " * process.\n",
              " * @param {string} inputId Element ID of the input file picker element.\n",
              " * @param {string} outputId Element ID of the output display.\n",
              " * @return {!Iterable<!Object>} Iterable of next steps.\n",
              " */\n",
              "function* uploadFilesStep(inputId, outputId) {\n",
              "  const inputElement = document.getElementById(inputId);\n",
              "  inputElement.disabled = false;\n",
              "\n",
              "  const outputElement = document.getElementById(outputId);\n",
              "  outputElement.innerHTML = '';\n",
              "\n",
              "  const pickedPromise = new Promise((resolve) => {\n",
              "    inputElement.addEventListener('change', (e) => {\n",
              "      resolve(e.target.files);\n",
              "    });\n",
              "  });\n",
              "\n",
              "  const cancel = document.createElement('button');\n",
              "  inputElement.parentElement.appendChild(cancel);\n",
              "  cancel.textContent = 'Cancel upload';\n",
              "  const cancelPromise = new Promise((resolve) => {\n",
              "    cancel.onclick = () => {\n",
              "      resolve(null);\n",
              "    };\n",
              "  });\n",
              "\n",
              "  // Wait for the user to pick the files.\n",
              "  const files = yield {\n",
              "    promise: Promise.race([pickedPromise, cancelPromise]),\n",
              "    response: {\n",
              "      action: 'starting',\n",
              "    }\n",
              "  };\n",
              "\n",
              "  cancel.remove();\n",
              "\n",
              "  // Disable the input element since further picks are not allowed.\n",
              "  inputElement.disabled = true;\n",
              "\n",
              "  if (!files) {\n",
              "    return {\n",
              "      response: {\n",
              "        action: 'complete',\n",
              "      }\n",
              "    };\n",
              "  }\n",
              "\n",
              "  for (const file of files) {\n",
              "    const li = document.createElement('li');\n",
              "    li.append(span(file.name, {fontWeight: 'bold'}));\n",
              "    li.append(span(\n",
              "        `(${file.type || 'n/a'}) - ${file.size} bytes, ` +\n",
              "        `last modified: ${\n",
              "            file.lastModifiedDate ? file.lastModifiedDate.toLocaleDateString() :\n",
              "                                    'n/a'} - `));\n",
              "    const percent = span('0% done');\n",
              "    li.appendChild(percent);\n",
              "\n",
              "    outputElement.appendChild(li);\n",
              "\n",
              "    const fileDataPromise = new Promise((resolve) => {\n",
              "      const reader = new FileReader();\n",
              "      reader.onload = (e) => {\n",
              "        resolve(e.target.result);\n",
              "      };\n",
              "      reader.readAsArrayBuffer(file);\n",
              "    });\n",
              "    // Wait for the data to be ready.\n",
              "    let fileData = yield {\n",
              "      promise: fileDataPromise,\n",
              "      response: {\n",
              "        action: 'continue',\n",
              "      }\n",
              "    };\n",
              "\n",
              "    // Use a chunked sending to avoid message size limits. See b/62115660.\n",
              "    let position = 0;\n",
              "    do {\n",
              "      const length = Math.min(fileData.byteLength - position, MAX_PAYLOAD_SIZE);\n",
              "      const chunk = new Uint8Array(fileData, position, length);\n",
              "      position += length;\n",
              "\n",
              "      const base64 = btoa(String.fromCharCode.apply(null, chunk));\n",
              "      yield {\n",
              "        response: {\n",
              "          action: 'append',\n",
              "          file: file.name,\n",
              "          data: base64,\n",
              "        },\n",
              "      };\n",
              "\n",
              "      let percentDone = fileData.byteLength === 0 ?\n",
              "          100 :\n",
              "          Math.round((position / fileData.byteLength) * 100);\n",
              "      percent.textContent = `${percentDone}% done`;\n",
              "\n",
              "    } while (position < fileData.byteLength);\n",
              "  }\n",
              "\n",
              "  // All done.\n",
              "  yield {\n",
              "    response: {\n",
              "      action: 'complete',\n",
              "    }\n",
              "  };\n",
              "}\n",
              "\n",
              "scope.google = scope.google || {};\n",
              "scope.google.colab = scope.google.colab || {};\n",
              "scope.google.colab._files = {\n",
              "  _uploadFiles,\n",
              "  _uploadFilesContinue,\n",
              "};\n",
              "})(self);\n",
              "</script> "
            ]
          },
          "metadata": {}
        },
        {
          "output_type": "stream",
          "name": "stdout",
          "text": [
            "Saving Transactions.csv to Transactions.csv\n",
            "Saving Products.csv to Products.csv\n",
            "Saving Customers.csv to Customers.csv\n"
          ]
        }
      ]
    },
    {
      "cell_type": "code",
      "source": [
        "import pandas as pd\n",
        "\n",
        "customers_df = pd.read_csv('Customers.csv')\n",
        "products_df = pd.read_csv('Products.csv')\n",
        "transactions_df = pd.read_csv('Transactions.csv')\n",
        "\n",
        "print(customers_df.head())\n",
        "print(products_df.head())\n",
        "print(transactions_df.head())\n"
      ],
      "metadata": {
        "colab": {
          "base_uri": "https://localhost:8080/"
        },
        "id": "pNGi9vv49Ejw",
        "outputId": "f919f307-3f5e-4554-d673-1969da0da838"
      },
      "execution_count": 4,
      "outputs": [
        {
          "output_type": "stream",
          "name": "stdout",
          "text": [
            "  CustomerID        CustomerName         Region  SignupDate\n",
            "0      C0001    Lawrence Carroll  South America  2022-07-10\n",
            "1      C0002      Elizabeth Lutz           Asia  2022-02-13\n",
            "2      C0003      Michael Rivera  South America  2024-03-07\n",
            "3      C0004  Kathleen Rodriguez  South America  2022-10-09\n",
            "4      C0005         Laura Weber           Asia  2022-08-15\n",
            "  ProductID              ProductName     Category   Price\n",
            "0      P001     ActiveWear Biography        Books  169.30\n",
            "1      P002    ActiveWear Smartwatch  Electronics  346.30\n",
            "2      P003  ComfortLiving Biography        Books   44.12\n",
            "3      P004            BookWorld Rug   Home Decor   95.69\n",
            "4      P005          TechPro T-Shirt     Clothing  429.31\n",
            "  TransactionID CustomerID ProductID      TransactionDate  Quantity  \\\n",
            "0        T00001      C0199      P067  2024-08-25 12:38:23         1   \n",
            "1        T00112      C0146      P067  2024-05-27 22:23:54         1   \n",
            "2        T00166      C0127      P067  2024-04-25 07:38:55         1   \n",
            "3        T00272      C0087      P067  2024-03-26 22:55:37         2   \n",
            "4        T00363      C0070      P067  2024-03-21 15:10:10         3   \n",
            "\n",
            "   TotalValue   Price  \n",
            "0      300.68  300.68  \n",
            "1      300.68  300.68  \n",
            "2      300.68  300.68  \n",
            "3      601.36  300.68  \n",
            "4      902.04  300.68  \n"
          ]
        }
      ]
    },
    {
      "cell_type": "code",
      "source": [
        "merged_df = pd.merge(transactions_df, customers_df, on='CustomerID', how='left')\n",
        "merged_df = pd.merge(merged_df, products_df, on='ProductID', how='left')\n",
        "\n",
        "merged_df['TransactionDate'] = pd.to_datetime(merged_df['TransactionDate'])\n",
        "\n",
        "customer_profile = merged_df.groupby('CustomerID').agg(\n",
        "    total_spend=('TotalValue', 'sum'),\n",
        "    num_transactions=('TransactionID', 'nunique'),\n",
        "    avg_spend=('TotalValue', 'mean'),\n",
        "    most_purchased_category=('Category', lambda x: x.mode()[0]),\n",
        "    recency=('TransactionDate', lambda x: (pd.to_datetime('today') - x.max()).days)\n",
        ").reset_index()\n",
        "\n",
        "\n",
        "print(customer_profile.head())\n"
      ],
      "metadata": {
        "colab": {
          "base_uri": "https://localhost:8080/"
        },
        "id": "t6FJykv99IIe",
        "outputId": "94444a41-c23f-4120-dfb8-6f231bbc79a9"
      },
      "execution_count": 6,
      "outputs": [
        {
          "output_type": "stream",
          "name": "stdout",
          "text": [
            "  CustomerID  total_spend  num_transactions  avg_spend  \\\n",
            "0      C0001      3354.52                 5    670.904   \n",
            "1      C0002      1862.74                 4    465.685   \n",
            "2      C0003      2725.38                 4    681.345   \n",
            "3      C0004      5354.88                 8    669.360   \n",
            "4      C0005      2034.24                 3    678.080   \n",
            "\n",
            "  most_purchased_category  recency  \n",
            "0             Electronics       85  \n",
            "1                Clothing       55  \n",
            "2              Home Decor      155  \n",
            "3                   Books       34  \n",
            "4             Electronics       84  \n"
          ]
        }
      ]
    },
    {
      "cell_type": "code",
      "source": [
        "from sklearn.preprocessing import StandardScaler\n",
        "from sklearn.metrics.pairwise import cosine_similarity\n",
        "\n",
        "\n",
        "features = customer_profile[['total_spend', 'num_transactions', 'avg_spend', 'recency']]\n",
        "\n",
        "\n",
        "scaler = StandardScaler()\n",
        "scaled_features = scaler.fit_transform(features)\n",
        "\n",
        "\n",
        "similarity_matrix = cosine_similarity(scaled_features)\n",
        "\n",
        "\n",
        "similarity_df = pd.DataFrame(similarity_matrix, index=customer_profile['CustomerID'], columns=customer_profile['CustomerID'])\n",
        "\n",
        "print(similarity_df.head())\n"
      ],
      "metadata": {
        "colab": {
          "base_uri": "https://localhost:8080/"
        },
        "id": "3v2JGqOK9ctK",
        "outputId": "a43df65f-f43a-4aa7-c25c-3a45171ac6e6"
      },
      "execution_count": 7,
      "outputs": [
        {
          "output_type": "stream",
          "name": "stdout",
          "text": [
            "CustomerID     C0001     C0002     C0003     C0004     C0005     C0006  \\\n",
            "CustomerID                                                               \n",
            "C0001       1.000000  0.715345 -0.595896  0.339112  0.388220 -0.338022   \n",
            "C0002       0.715345  1.000000  0.068836 -0.261288  0.709845 -0.653791   \n",
            "C0003      -0.595896  0.068836  1.000000 -0.940056  0.462793  0.057745   \n",
            "C0004       0.339112 -0.261288 -0.940056  1.000000 -0.726953 -0.132250   \n",
            "C0005       0.388220  0.709845  0.462793 -0.726953  1.000000  0.005291   \n",
            "\n",
            "CustomerID     C0007     C0008     C0009     C0010  ...     C0191     C0192  \\\n",
            "CustomerID                                          ...                       \n",
            "C0001      -0.491568  0.340421  0.302495  0.588296  ...  0.985949 -0.414551   \n",
            "C0002      -0.143131  0.046294  0.881564  0.984193  ...  0.795619  0.338119   \n",
            "C0003       0.813245 -0.718298  0.481952  0.197951  ... -0.535058  0.885775   \n",
            "C0004      -0.875277  0.841557 -0.566660 -0.344587  ...  0.304736 -0.784316   \n",
            "C0005       0.550595 -0.637471  0.687420  0.684641  ...  0.390614  0.387124   \n",
            "\n",
            "CustomerID     C0193     C0194     C0195     C0196     C0197     C0198  \\\n",
            "CustomerID                                                               \n",
            "C0001      -0.899800  0.135342  0.595773  0.023365  0.763952  0.209978   \n",
            "C0002      -0.374040 -0.009738 -0.020015 -0.516155  0.824528  0.793403   \n",
            "C0003       0.886053 -0.543547 -0.990833 -0.314151  0.015165  0.645878   \n",
            "C0004      -0.703383  0.737761  0.956768  0.168460 -0.333664 -0.787768   \n",
            "C0005       0.024160 -0.702775 -0.496140 -0.021445  0.889144  0.872648   \n",
            "\n",
            "CustomerID     C0199     C0200  \n",
            "CustomerID                      \n",
            "C0001       0.434438  0.211197  \n",
            "C0002       0.939922 -0.466359  \n",
            "C0003       0.385855 -0.606359  \n",
            "C0004      -0.511610  0.466937  \n",
            "C0005       0.736084 -0.188883  \n",
            "\n",
            "[5 rows x 199 columns]\n"
          ]
        }
      ]
    },
    {
      "cell_type": "code",
      "source": [
        "# Get the top 3 most similar customers for the first 20 customers\n",
        "lookalike_recommendations = {}\n",
        "\n",
        "for customer_id in customer_profile['CustomerID'][:20]:\n",
        "    similarities = similarity_df[customer_id]\n",
        "\n",
        "    sorted_similarities = similarities.drop(customer_id).sort_values(ascending=False)\n",
        "\n",
        "    top_3_similar = sorted_similarities.head(3)\n",
        "\n",
        "    lookalike_recommendations[customer_id] = list(zip(top_3_similar.index, top_3_similar.values))\n",
        "\n",
        "lookalike_df = pd.DataFrame([\n",
        "    {'CustomerID': cust_id, 'Lookalikes': lookalikes}\n",
        "    for cust_id, lookalikes in lookalike_recommendations.items()\n",
        "])\n",
        "\n",
        "print(lookalike_df.head())\n"
      ],
      "metadata": {
        "colab": {
          "base_uri": "https://localhost:8080/"
        },
        "id": "4FlZOcIT9k-D",
        "outputId": "5298828a-68c4-4d4c-c40b-3d33de39cba7"
      },
      "execution_count": 8,
      "outputs": [
        {
          "output_type": "stream",
          "name": "stdout",
          "text": [
            "  CustomerID                                         Lookalikes\n",
            "0      C0001  [(C0056, 0.9958000025797457), (C0190, 0.988015...\n",
            "1      C0002  [(C0031, 0.9982716805506013), (C0029, 0.989477...\n",
            "2      C0003  [(C0112, 0.9983440085944362), (C0144, 0.997910...\n",
            "3      C0004  [(C0101, 0.9977071256667731), (C0075, 0.983313...\n",
            "4      C0005  [(C0123, 0.9980016654890479), (C0036, 0.984902...\n"
          ]
        }
      ]
    },
    {
      "cell_type": "code",
      "source": [
        "lookalike_df.to_csv('Lookalike.csv', index=False)\n"
      ],
      "metadata": {
        "id": "jM4GN_dA9nUf"
      },
      "execution_count": 9,
      "outputs": []
    },
    {
      "cell_type": "markdown",
      "source": [
        "The algorithm for the Lookalike Model follows these main steps:\n",
        "\n",
        "Data Loading and Merging:\n",
        "\n",
        "Load the Customers.csv, Products.csv, and Transactions.csv datasets into pandas DataFrames.\n",
        "Merge these datasets on CustomerID and ProductID to create a unified DataFrame containing all transaction details along with customer and product information.\n",
        "Feature Engineering:\n",
        "\n",
        "For each customer, create several features that describe their transaction behavior:\n",
        "Total Spend: Calculate the total monetary value spent by the customer, which is the sum of the TotalValue for each transaction.\n",
        "Number of Transactions: Count how many unique transactions each customer has made.\n",
        "Average Spend: Compute the average spending per transaction by calculating the mean of TotalValue.\n",
        "Most Purchased Category: Identify the most frequently purchased product category by calculating the mode of the Category column for each customer.\n",
        "Recency: Calculate how many days have passed since the customer's most recent transaction using the difference between today's date and the latest TransactionDate.\n",
        "Similarity Calculation:\n",
        "\n",
        "Normalize the features (i.e., standardize them) to ensure that each feature contributes equally to the similarity measure.\n",
        "Calculate the Cosine Similarity between all customer profiles based on the selected features (total_spend, num_transactions, avg_spend, and recency). Cosine similarity is chosen here because it measures the cosine of the angle between two vectors, which helps identify customers with similar transaction behaviors.\n",
        "Recommendation Generation:\n",
        "\n",
        "For each of the first 20 customers (CustomerID: C0001 - C0020), find the top 3 most similar customers by sorting the similarity scores in descending order.\n",
        "Exclude the customer themselves from the recommendations, as the similarity with themselves is always 1.\n",
        "Result Compilation:\n",
        "\n",
        "Store the recommended lookalike customers and their similarity scores in a dictionary, where each key is the CustomerID and the value is a list of tuples containing the CustomerID of similar customers and their respective similarity scores.\n",
        "Convert this dictionary into a pandas DataFrame and export it to a CSV file (Lookalike.csv) for further use."
      ],
      "metadata": {
        "id": "qvmszXiH-Qf5"
      }
    }
  ]
}